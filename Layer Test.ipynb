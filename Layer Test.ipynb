{
 "cells": [
  {
   "cell_type": "code",
   "execution_count": 14,
   "metadata": {},
   "outputs": [],
   "source": [
    "import os\n",
    "import cv2\n",
    "import numpy as np\n",
    "from sklearn.model_selection import train_test_split\n",
    "from sklearn.metrics import classification_report\n",
    "\n",
    "from sequential import Sequential\n",
    "from conv2d import Conv2D\n",
    "from pooling2d import Pooling2D\n",
    "from flatten import Flatten\n",
    "from dense import Dense"
   ]
  },
  {
   "cell_type": "code",
   "execution_count": 15,
   "metadata": {},
   "outputs": [],
   "source": [
    "np.random.seed(13517013)"
   ]
  },
  {
   "cell_type": "code",
   "execution_count": 16,
   "metadata": {},
   "outputs": [],
   "source": [
    "image_size = (30, 30)"
   ]
  },
  {
   "cell_type": "code",
   "execution_count": 17,
   "metadata": {},
   "outputs": [],
   "source": [
    "def readImage(path):\n",
    "    result = []\n",
    "    images = os.listdir(path)\n",
    "    print(images)\n",
    "    for image in images:\n",
    "        result.append(cv2.resize(cv2.imread(path + '/' + image, 1), image_size))\n",
    "    return np.array(result)"
   ]
  },
  {
   "cell_type": "code",
   "execution_count": 18,
   "metadata": {},
   "outputs": [
    {
     "name": "stdout",
     "output_type": "stream",
     "text": [
      "['cat.0.jpg', 'cat.15.jpg', 'cat.17.jpg', 'cat.19.jpg', 'cat.2.jpg', 'cat.21.jpg', 'cat.23.jpg', 'cat.26.jpg', 'cat.36.jpg', 'cat.38.jpg', 'cat.40.jpg', 'cat.45.jpg', 'cat.48.jpg', 'cat.49.jpg', 'cat.50.jpg', 'cat.58.jpg', 'cat.60.jpg', 'cat.61.jpg', 'cat.71.jpg', 'cat.9.jpg']\n"
     ]
    }
   ],
   "source": [
    "cats = readImage(\"./cats\")"
   ]
  },
  {
   "cell_type": "code",
   "execution_count": 19,
   "metadata": {},
   "outputs": [
    {
     "name": "stdout",
     "output_type": "stream",
     "text": [
      "['dog.0.jpg', 'dog.24.jpg', 'dog.25.jpg', 'dog.3.jpg', 'dog.30.jpg', 'dog.34.jpg', 'dog.36.jpg', 'dog.38.jpg', 'dog.4.jpg', 'dog.40.jpg', 'dog.42.jpg', 'dog.5.jpg', 'dog.50.jpg', 'dog.51.jpg', 'dog.58.jpg', 'dog.60.jpg', 'dog.61.jpg', 'dog.63.jpg', 'dog.8.jpg', 'dog.9.jpg']\n"
     ]
    }
   ],
   "source": [
    "dogs = readImage(\"./dogs\")"
   ]
  },
  {
   "cell_type": "code",
   "execution_count": 20,
   "metadata": {},
   "outputs": [
    {
     "name": "stdout",
     "output_type": "stream",
     "text": [
      "(40, 30, 30, 3)\n"
     ]
    }
   ],
   "source": [
    "xdata = np.concatenate((cats, dogs))\n",
    "yData = np.array([0] * len(cats) + [1] * len(dogs))\n",
    "\n",
    "x_train, x_test, y_train, y_test = train_test_split(\n",
    "        xdata, yData, test_size=0.1, random_state=13517013)\n",
    "\n",
    "print(xdata.shape)"
   ]
  },
  {
   "cell_type": "code",
   "execution_count": null,
   "metadata": {},
   "outputs": [],
   "source": []
  },
  {
   "cell_type": "code",
   "execution_count": 21,
   "metadata": {
    "scrolled": false
   },
   "outputs": [],
   "source": [
    "model = Sequential()\n",
    "\n",
    "model.add(Conv2D(8, (2, 2), pad=0, stride=2, input_shape=(xdata.shape[1], xdata.shape[2], xdata.shape[3]), activation='relu'))\n",
    "model.add(Pooling2D((2, 2), stride=2, pool_mode='avg'))\n",
    "model.add(Flatten())\n",
    "model.add(Dense(8, activation='sigmoid'))\n",
    "model.add(Dense(4, activation='sigmoid'))\n",
    "model.add(Dense(1, activation='sigmoid'))"
   ]
  },
  {
   "cell_type": "code",
   "execution_count": 22,
   "metadata": {
    "scrolled": false
   },
   "outputs": [
    {
     "name": "stdout",
     "output_type": "stream",
     "text": [
      "[[0.5507473 ]\n",
      " [0.54416562]\n",
      " [0.54416481]\n",
      " [0.5446854 ]\n",
      " [0.75907003]\n",
      " [0.54416481]\n",
      " [0.54416476]\n",
      " [0.54416787]\n",
      " [0.54416481]\n",
      " [0.5459428 ]\n",
      " [0.54417641]\n",
      " [0.54416573]\n",
      " [0.54416481]\n",
      " [0.54416495]\n",
      " [0.55333302]\n",
      " [0.5442836 ]\n",
      " [0.54416482]\n",
      " [0.54433296]\n",
      " [0.54416555]\n",
      " [0.54416481]\n",
      " [0.54588208]\n",
      " [0.54416481]\n",
      " [0.54416493]\n",
      " [0.54416481]\n",
      " [0.54420093]\n",
      " [0.54425899]\n",
      " [0.54416481]\n",
      " [0.54416482]\n",
      " [0.54416509]\n",
      " [0.54811108]\n",
      " [0.54429292]\n",
      " [0.54416486]\n",
      " [0.54422253]\n",
      " [0.54416582]\n",
      " [0.54416499]\n",
      " [0.54418194]]\n"
     ]
    }
   ],
   "source": [
    "pred = model.forward(x_train)\n",
    "print(pred)"
   ]
  },
  {
   "cell_type": "code",
   "execution_count": 23,
   "metadata": {
    "scrolled": true
   },
   "outputs": [
    {
     "name": "stdout",
     "output_type": "stream",
     "text": [
      "              precision    recall  f1-score   support\n",
      "\n",
      "           0       0.00      0.00      0.00        18\n",
      "           1       0.50      1.00      0.67        18\n",
      "\n",
      "    accuracy                           0.50        36\n",
      "   macro avg       0.25      0.50      0.33        36\n",
      "weighted avg       0.25      0.50      0.33        36\n",
      "\n"
     ]
    },
    {
     "name": "stderr",
     "output_type": "stream",
     "text": [
      "c:\\Users\\alexa\\AppData\\Local\\Programs\\Python\\Python39\\lib\\site-packages\\sklearn\\metrics\\_classification.py:1318: UndefinedMetricWarning: Precision and F-score are ill-defined and being set to 0.0 in labels with no predicted samples. Use `zero_division` parameter to control this behavior.\n",
      "  _warn_prf(average, modifier, msg_start, len(result))\n",
      "c:\\Users\\alexa\\AppData\\Local\\Programs\\Python\\Python39\\lib\\site-packages\\sklearn\\metrics\\_classification.py:1318: UndefinedMetricWarning: Precision and F-score are ill-defined and being set to 0.0 in labels with no predicted samples. Use `zero_division` parameter to control this behavior.\n",
      "  _warn_prf(average, modifier, msg_start, len(result))\n",
      "c:\\Users\\alexa\\AppData\\Local\\Programs\\Python\\Python39\\lib\\site-packages\\sklearn\\metrics\\_classification.py:1318: UndefinedMetricWarning: Precision and F-score are ill-defined and being set to 0.0 in labels with no predicted samples. Use `zero_division` parameter to control this behavior.\n",
      "  _warn_prf(average, modifier, msg_start, len(result))\n"
     ]
    }
   ],
   "source": [
    "print(classification_report(y_train, np.round(pred)))"
   ]
  },
  {
   "cell_type": "code",
   "execution_count": 24,
   "metadata": {},
   "outputs": [
    {
     "name": "stdout",
     "output_type": "stream",
     "text": [
      "Initial error: 0.6882761030892843\n"
     ]
    }
   ],
   "source": [
    "print('Initial error:', np.mean(model.calculateError(y_train, pred)))"
   ]
  },
  {
   "cell_type": "code",
   "execution_count": 25,
   "metadata": {},
   "outputs": [
    {
     "name": "stdout",
     "output_type": "stream",
     "text": [
      "Predicted Array\n",
      "['dogs' 'dogs' 'dogs' 'dogs' 'dogs' 'dogs' 'dogs' 'dogs' 'dogs' 'dogs'\n",
      " 'dogs' 'dogs' 'dogs' 'dogs' 'dogs' 'dogs' 'dogs' 'dogs' 'dogs' 'dogs'\n",
      " 'dogs' 'dogs' 'dogs' 'dogs' 'dogs' 'dogs' 'dogs' 'dogs' 'dogs' 'dogs'\n",
      " 'dogs' 'dogs' 'dogs' 'dogs' 'dogs' 'dogs']\n",
      "Actual Array\n",
      "['dogs' 'dogs' 'cats' 'dogs' 'dogs' 'dogs' 'dogs' 'cats' 'cats' 'dogs'\n",
      " 'cats' 'cats' 'cats' 'cats' 'cats' 'dogs' 'dogs' 'cats' 'dogs' 'dogs'\n",
      " 'cats' 'cats' 'cats' 'dogs' 'dogs' 'cats' 'cats' 'cats' 'cats' 'cats'\n",
      " 'dogs' 'dogs' 'dogs' 'dogs' 'cats' 'dogs']\n"
     ]
    }
   ],
   "source": [
    "# Make labels from possibility values\n",
    "def makeLabels(pred):\n",
    "    result = []\n",
    "    for each_pred in pred:\n",
    "        if each_pred >= 0.5:\n",
    "            result.append(\"dogs\")\n",
    "        else:\n",
    "            result.append(\"cats\")\n",
    "    return np.array(result)\n",
    "\n",
    "print(\"Predicted Array\")\n",
    "print(makeLabels(pred))\n",
    "print(\"Actual Array\")\n",
    "print(makeLabels(y_train))"
   ]
  },
  {
   "cell_type": "code",
   "execution_count": 26,
   "metadata": {},
   "outputs": [
    {
     "name": "stdout",
     "output_type": "stream",
     "text": [
      "Learning rate: 0.04\n",
      "Update weight\n",
      "<conv2d.Conv2D object at 0x0000020D3DA6B880> [[[[ 1.52717890e-06  1.52717890e-06  1.52717890e-06]\n",
      "   [-5.94654447e-06 -5.94654447e-06 -5.94654447e-06]]\n",
      "\n",
      "  [[ 1.15437222e-06  1.15437222e-06  1.15437222e-06]\n",
      "   [ 3.76076438e-06  3.76076438e-06  3.76076438e-06]]]] [0.]\n",
      "<pooling2d.Pooling2D object at 0x0000020D3DA6B940> [0.] [0.]\n",
      "<flatten.Flatten object at 0x0000020D3DA6B9A0> [0.] [0.]\n",
      "<dense.Dense object at 0x0000020D3DA6B970> [[-1.70562416e-04 -9.31236916e-31 -2.80097151e-84  9.35114177e-04\n",
      "   0.00000000e+00  1.72247253e-47 -5.74239936e-10  1.22014956e-11]] [[-1.14308834e-07 -7.47195381e-34 -3.48677747e-87  1.07516968e-06\n",
      "   0.00000000e+00  2.65419978e-50 -5.42582335e-13  1.00520973e-14]]\n",
      "<dense.Dense object at 0x0000020D7A508910> [[ 0.00000000e+00 -5.43757823e-06 -3.33590998e-10 -1.19237460e-13]] [[ 0.00000000e+00  7.46003096e-05 -2.08494374e-09 -1.49047104e-12]]\n",
      "<dense.Dense object at 0x0000020D3C74F7C0> [[0.0056928]] [[0.04572976]]\n",
      "-------------\n"
     ]
    },
    {
     "name": "stderr",
     "output_type": "stream",
     "text": [
      "c:\\Users\\alexa\\AppData\\Local\\Programs\\Python\\Python39\\lib\\site-packages\\sklearn\\metrics\\_classification.py:1318: UndefinedMetricWarning: Precision and F-score are ill-defined and being set to 0.0 in labels with no predicted samples. Use `zero_division` parameter to control this behavior.\n",
      "  _warn_prf(average, modifier, msg_start, len(result))\n",
      "c:\\Users\\alexa\\AppData\\Local\\Programs\\Python\\Python39\\lib\\site-packages\\sklearn\\metrics\\_classification.py:1318: UndefinedMetricWarning: Precision and F-score are ill-defined and being set to 0.0 in labels with no predicted samples. Use `zero_division` parameter to control this behavior.\n",
      "  _warn_prf(average, modifier, msg_start, len(result))\n",
      "c:\\Users\\alexa\\AppData\\Local\\Programs\\Python\\Python39\\lib\\site-packages\\sklearn\\metrics\\_classification.py:1318: UndefinedMetricWarning: Precision and F-score are ill-defined and being set to 0.0 in labels with no predicted samples. Use `zero_division` parameter to control this behavior.\n",
      "  _warn_prf(average, modifier, msg_start, len(result))\n"
     ]
    },
    {
     "name": "stdout",
     "output_type": "stream",
     "text": [
      "              precision    recall  f1-score   support\n",
      "\n",
      "           0       0.00      0.00      0.00        18\n",
      "           1       0.50      1.00      0.67        18\n",
      "\n",
      "    accuracy                           0.50        36\n",
      "   macro avg       0.25      0.50      0.33        36\n",
      "weighted avg       0.25      0.50      0.33        36\n",
      "\n",
      "Epoch: 1 = error :  0.6852357083306732\n",
      "======================================================\n",
      "\n",
      "\n",
      "Learning rate: 0.04\n",
      "Update weight\n",
      "<conv2d.Conv2D object at 0x0000020D3DA6B880> [[[[ 3.27409224e-07  3.27409224e-07  3.27409224e-07]\n",
      "   [-1.43071578e-06 -1.43071578e-06 -1.43071578e-06]]\n",
      "\n",
      "  [[-6.79012287e-07 -6.79012287e-07 -6.79012287e-07]\n",
      "   [ 1.33387043e-06  1.33387043e-06  1.33387043e-06]]]] [0.]\n",
      "<pooling2d.Pooling2D object at 0x0000020D3DA6B940> [0.] [0.]\n",
      "<flatten.Flatten object at 0x0000020D3DA6B9A0> [0.] [0.]\n",
      "<dense.Dense object at 0x0000020D3DA6B970> [[-3.60161087e-04 -9.56196326e-31 -2.28134677e-84  2.80764202e-04\n",
      "   0.00000000e+00  1.40527339e-47 -6.11409103e-10  1.27588401e-11]] [[-3.60683075e-07 -7.67222414e-34 -2.83992272e-87  3.22822744e-07\n",
      "   0.00000000e+00  2.16542119e-50 -5.71814028e-13  1.05889250e-14]]\n",
      "<dense.Dense object at 0x0000020D7A508910> [[ 0.00000000e+00  2.43270090e-05 -3.36020489e-06 -1.20620884e-13]] [[ 0.00000000e+00  3.19659603e-04 -2.10012866e-05 -1.50776380e-12]]\n",
      "<dense.Dense object at 0x0000020D3C74F7C0> [[0.00452821]] [[0.03586901]]\n",
      "-------------\n",
      "              precision    recall  f1-score   support\n",
      "\n",
      "           0       0.00      0.00      0.00        18\n",
      "           1       0.49      0.94      0.64        18\n",
      "\n",
      "    accuracy                           0.47        36\n",
      "   macro avg       0.24      0.47      0.32        36\n",
      "weighted avg       0.24      0.47      0.32        36\n",
      "\n",
      "Epoch: 2 = error :  0.6876738124028381\n",
      "======================================================\n",
      "\n",
      "\n",
      "Learning rate: 0.04\n",
      "Update weight\n",
      "<conv2d.Conv2D object at 0x0000020D3DA6B880> [[[[-1.59738067e-06 -1.59738067e-06 -1.59738067e-06]\n",
      "   [-1.57465599e-06 -1.57465599e-06 -1.57465599e-06]]\n",
      "\n",
      "  [[-5.87009423e-07 -5.87009423e-07 -5.87009423e-07]\n",
      "   [ 2.30648120e-06  2.30648120e-06  2.30648120e-06]]]] [0.]\n",
      "<pooling2d.Pooling2D object at 0x0000020D3DA6B940> [0.] [0.]\n",
      "<flatten.Flatten object at 0x0000020D3DA6B9A0> [0.] [0.]\n",
      "<dense.Dense object at 0x0000020D3DA6B970> [[-4.56112371e-04 -9.89269808e-31 -1.40421778e-84  5.85703420e-05\n",
      "   0.00000000e+00  9.09174207e-48 -6.40313556e-10  1.49496093e-11]] [[-5.32448591e-07 -7.93759318e-34 -1.74802691e-87  6.69967564e-08\n",
      "   0.00000000e+00  1.40096900e-50 -5.96476245e-13  1.29976617e-14]]\n",
      "<dense.Dense object at 0x0000020D7A508910> [[ 0.00000000e+00  3.29065414e-05 -2.94874869e-05 -1.22015950e-13]] [[ 0.00000000e+00  4.84452208e-04 -1.84318047e-04 -1.52520213e-12]]\n",
      "<dense.Dense object at 0x0000020D3C74F7C0> [[0.00347294]] [[0.02396212]]\n",
      "-------------\n",
      "              precision    recall  f1-score   support\n",
      "\n",
      "           0       0.00      0.00      0.00        18\n",
      "           1       0.49      0.94      0.64        18\n",
      "\n",
      "    accuracy                           0.47        36\n",
      "   macro avg       0.24      0.47      0.32        36\n",
      "weighted avg       0.24      0.47      0.32        36\n",
      "\n",
      "Epoch: 3 = error :  0.6870953110608534\n",
      "======================================================\n",
      "\n",
      "\n",
      "Learning rate: 0.04\n",
      "Update weight\n",
      "<conv2d.Conv2D object at 0x0000020D3DA6B880> [[[[-3.99496469e-07 -3.99496469e-07 -3.99496469e-07]\n",
      "   [-1.61014081e-07 -1.61014081e-07 -1.61014081e-07]]\n",
      "\n",
      "  [[ 2.55351562e-07  2.55351562e-07  2.55351562e-07]\n",
      "   [ 7.96977481e-07  7.96977481e-07  7.96977481e-07]]]] [0.]\n",
      "<pooling2d.Pooling2D object at 0x0000020D3DA6B940> [0.] [0.]\n",
      "<flatten.Flatten object at 0x0000020D3DA6B9A0> [0.] [0.]\n",
      "<dense.Dense object at 0x0000020D3DA6B970> [[-6.33859376e-05 -9.38875424e-31 -7.15249000e-85  1.74898277e-05\n",
      "   0.00000000e+00  5.03557713e-48 -6.59890384e-10  1.39225076e-11]] [[-1.08260476e-07 -7.53323344e-34 -8.90362426e-88  2.00044198e-08\n",
      "   0.00000000e+00  7.75943514e-51 -6.13867545e-13  1.16749825e-14]]\n",
      "<dense.Dense object at 0x0000020D7A508910> [[ 0.00000000e+00  4.17406686e-05 -8.87199460e-06 -1.22906079e-13]] [[ 0.00000000e+00  6.96697951e-04 -5.54564101e-05 -1.53632879e-12]]\n",
      "<dense.Dense object at 0x0000020D3C74F7C0> [[0.00253956]] [[0.01488453]]\n",
      "-------------\n",
      "              precision    recall  f1-score   support\n",
      "\n",
      "           0       0.00      0.00      0.00        18\n",
      "           1       0.49      0.94      0.64        18\n",
      "\n",
      "    accuracy                           0.47        36\n",
      "   macro avg       0.24      0.47      0.32        36\n",
      "weighted avg       0.24      0.47      0.32        36\n",
      "\n",
      "Epoch: 4 = error :  0.6867936257048447\n",
      "======================================================\n",
      "\n",
      "\n",
      "Learning rate: 0.04\n",
      "Update weight\n",
      "<conv2d.Conv2D object at 0x0000020D3DA6B880> [[[[2.58297931e-08 2.58297931e-08 2.58297931e-08]\n",
      "   [5.78430690e-07 5.78430690e-07 5.78430690e-07]]\n",
      "\n",
      "  [[5.37240678e-07 5.37240678e-07 5.37240678e-07]\n",
      "   [1.60489836e-07 1.60489836e-07 1.60489836e-07]]]] [0.]\n",
      "<pooling2d.Pooling2D object at 0x0000020D3DA6B940> [0.] [0.]\n",
      "<flatten.Flatten object at 0x0000020D3DA6B9A0> [0.] [0.]\n",
      "<dense.Dense object at 0x0000020D3DA6B970> [[ 7.91019845e-05 -8.21711545e-31 -4.79755920e-85  5.20613352e-06\n",
      "   0.00000000e+00  3.60817129e-48 -6.71662325e-10  1.38199147e-11]] [[ 5.87073390e-08 -6.59314863e-34 -5.97208442e-88  5.95381950e-09\n",
      "   0.00000000e+00  5.55991031e-51 -6.24563778e-13  1.14471253e-14]]\n",
      "<dense.Dense object at 0x0000020D7A508910> [[ 0.00000000e+00  4.63997994e-05 -2.67048987e-06 -1.23320252e-13]] [[ 0.00000000e+00  7.88023193e-04 -1.66925288e-05 -1.54150595e-12]]\n",
      "<dense.Dense object at 0x0000020D3C74F7C0> [[0.00184552]] [[0.00865382]]\n",
      "-------------\n",
      "              precision    recall  f1-score   support\n",
      "\n",
      "           0       0.53      0.94      0.68        18\n",
      "           1       0.75      0.17      0.27        18\n",
      "\n",
      "    accuracy                           0.56        36\n",
      "   macro avg       0.64      0.56      0.48        36\n",
      "weighted avg       0.64      0.56      0.48        36\n",
      "\n",
      "Epoch: 5 = error :  0.6867088046870345\n",
      "======================================================\n",
      "\n",
      "\n"
     ]
    }
   ],
   "source": [
    "# Using the backprop method to train the model\n",
    "history = model.fit(x_train, y_train, epochs=5, lr=0.04, momentum=0.3, lr_decay=0, batch_size=10)"
   ]
  },
  {
   "cell_type": "code",
   "execution_count": 27,
   "metadata": {},
   "outputs": [
    {
     "name": "stdout",
     "output_type": "stream",
     "text": [
      "              precision    recall  f1-score   support\n",
      "\n",
      "           0       0.50      1.00      0.67         2\n",
      "           1       0.00      0.00      0.00         2\n",
      "\n",
      "    accuracy                           0.50         4\n",
      "   macro avg       0.25      0.50      0.33         4\n",
      "weighted avg       0.25      0.50      0.33         4\n",
      "\n"
     ]
    },
    {
     "name": "stderr",
     "output_type": "stream",
     "text": [
      "c:\\Users\\alexa\\AppData\\Local\\Programs\\Python\\Python39\\lib\\site-packages\\sklearn\\metrics\\_classification.py:1318: UndefinedMetricWarning: Precision and F-score are ill-defined and being set to 0.0 in labels with no predicted samples. Use `zero_division` parameter to control this behavior.\n",
      "  _warn_prf(average, modifier, msg_start, len(result))\n",
      "c:\\Users\\alexa\\AppData\\Local\\Programs\\Python\\Python39\\lib\\site-packages\\sklearn\\metrics\\_classification.py:1318: UndefinedMetricWarning: Precision and F-score are ill-defined and being set to 0.0 in labels with no predicted samples. Use `zero_division` parameter to control this behavior.\n",
      "  _warn_prf(average, modifier, msg_start, len(result))\n",
      "c:\\Users\\alexa\\AppData\\Local\\Programs\\Python\\Python39\\lib\\site-packages\\sklearn\\metrics\\_classification.py:1318: UndefinedMetricWarning: Precision and F-score are ill-defined and being set to 0.0 in labels with no predicted samples. Use `zero_division` parameter to control this behavior.\n",
      "  _warn_prf(average, modifier, msg_start, len(result))\n"
     ]
    }
   ],
   "source": [
    "pred_test = model.forward(x_test)\n",
    "print(classification_report(y_test, np.round(pred_test)))"
   ]
  }
 ],
 "metadata": {
  "kernelspec": {
   "display_name": "Python 3.9.7 64-bit",
   "language": "python",
   "name": "python3"
  },
  "language_info": {
   "codemirror_mode": {
    "name": "ipython",
    "version": 3
   },
   "file_extension": ".py",
   "mimetype": "text/x-python",
   "name": "python",
   "nbconvert_exporter": "python",
   "pygments_lexer": "ipython3",
   "version": "3.9.7"
  },
  "vscode": {
   "interpreter": {
    "hash": "f3d42ad487b2b2994e012ab0306cc0a65d83ea9d079e1ade1e8453053e613de7"
   }
  }
 },
 "nbformat": 4,
 "nbformat_minor": 4
}
