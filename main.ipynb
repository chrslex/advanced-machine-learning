{
 "cells": [
  {
   "cell_type": "code",
   "execution_count": 12,
   "metadata": {},
   "outputs": [],
   "source": [
    "import os\n",
    "import cv2\n",
    "import numpy as np\n",
    "from sklearn.model_selection import train_test_split\n",
    "from sklearn.metrics import classification_report\n",
    "\n",
    "from sequential import Sequential\n",
    "from conv2d import Conv2D\n",
    "from pooling2d import Pooling2D\n",
    "from flatten import Flatten\n",
    "from dense import Dense"
   ]
  },
  {
   "cell_type": "code",
   "execution_count": 13,
   "metadata": {},
   "outputs": [],
   "source": [
    "np.random.seed(13517013)"
   ]
  },
  {
   "cell_type": "code",
   "execution_count": 14,
   "metadata": {},
   "outputs": [],
   "source": [
    "image_size = (30, 30)"
   ]
  },
  {
   "cell_type": "code",
   "execution_count": 15,
   "metadata": {},
   "outputs": [],
   "source": [
    "def readImage(path):\n",
    "    result = []\n",
    "    images = os.listdir(path)\n",
    "    print(images)\n",
    "    for image in images:\n",
    "        result.append(cv2.resize(cv2.imread(path + '/' + image, 1), image_size))\n",
    "    return np.array(result)"
   ]
  },
  {
   "cell_type": "code",
   "execution_count": 16,
   "metadata": {},
   "outputs": [
    {
     "name": "stdout",
     "output_type": "stream",
     "text": [
      "['cat.0.jpg', 'cat.15.jpg', 'cat.17.jpg', 'cat.19.jpg', 'cat.2.jpg', 'cat.21.jpg', 'cat.23.jpg', 'cat.26.jpg', 'cat.36.jpg', 'cat.38.jpg', 'cat.40.jpg', 'cat.45.jpg', 'cat.48.jpg', 'cat.49.jpg', 'cat.50.jpg', 'cat.58.jpg', 'cat.60.jpg', 'cat.61.jpg', 'cat.71.jpg', 'cat.9.jpg']\n"
     ]
    }
   ],
   "source": [
    "cats = readImage(\"./cats\")"
   ]
  },
  {
   "cell_type": "code",
   "execution_count": 17,
   "metadata": {},
   "outputs": [
    {
     "name": "stdout",
     "output_type": "stream",
     "text": [
      "['dog.0.jpg', 'dog.24.jpg', 'dog.25.jpg', 'dog.3.jpg', 'dog.30.jpg', 'dog.34.jpg', 'dog.36.jpg', 'dog.38.jpg', 'dog.4.jpg', 'dog.40.jpg', 'dog.42.jpg', 'dog.5.jpg', 'dog.50.jpg', 'dog.51.jpg', 'dog.58.jpg', 'dog.60.jpg', 'dog.61.jpg', 'dog.63.jpg', 'dog.8.jpg', 'dog.9.jpg']\n"
     ]
    }
   ],
   "source": [
    "dogs = readImage(\"./dogs\")"
   ]
  },
  {
   "cell_type": "code",
   "execution_count": 18,
   "metadata": {},
   "outputs": [
    {
     "name": "stdout",
     "output_type": "stream",
     "text": [
      "(40, 30, 30, 3)\n"
     ]
    }
   ],
   "source": [
    "xdata = np.concatenate((cats, dogs))\n",
    "yData = np.array([0] * len(cats) + [1] * len(dogs))\n",
    "\n",
    "x_train, x_test, y_train, y_test = train_test_split(\n",
    "        xdata, yData, test_size=0.1, random_state=13517013)\n",
    "\n",
    "print(xdata.shape)"
   ]
  },
  {
   "cell_type": "code",
   "execution_count": 19,
   "metadata": {
    "scrolled": false
   },
   "outputs": [],
   "source": [
    "model = Sequential()\n",
    "\n",
    "model.add(Conv2D(1, (2, 2), pad=1, stride=2, input_shape=(xdata.shape[1], xdata.shape[2], xdata.shape[3]), activation='relu'))\n",
    "model.add(Pooling2D((2, 2), stride=1))\n",
    "model.add(Conv2D(1, (2, 2), pad=1, stride=2, input_shape=(99, 99, xdata.shape[3]), activation='relu'))\n",
    "model.add(Flatten())\n",
    "model.add(Dense(8, activation='relu'))\n",
    "model.add(Dense(4, activation='sigmoid'))\n",
    "model.add(Dense(1, activation='sigmoid'))"
   ]
  },
  {
   "cell_type": "code",
   "execution_count": 20,
   "metadata": {
    "scrolled": false
   },
   "outputs": [
    {
     "name": "stdout",
     "output_type": "stream",
     "text": [
      "[[0.59617391]\n",
      " [0.8467087 ]\n",
      " [0.76599744]\n",
      " [0.6109936 ]\n",
      " [0.84679342]\n",
      " [0.59614694]\n",
      " [0.6109936 ]\n",
      " [0.6109936 ]\n",
      " [0.59614694]\n",
      " [0.6109936 ]\n",
      " [0.6109936 ]\n",
      " [0.6109936 ]\n",
      " [0.71302904]\n",
      " [0.84308462]\n",
      " [0.6109936 ]\n",
      " [0.6109936 ]\n",
      " [0.84679342]\n",
      " [0.84679342]\n",
      " [0.8467934 ]\n",
      " [0.6109936 ]\n",
      " [0.84656126]\n",
      " [0.7820765 ]\n",
      " [0.84679342]\n",
      " [0.84679342]\n",
      " [0.71339283]\n",
      " [0.6109936 ]\n",
      " [0.71366657]\n",
      " [0.84679342]\n",
      " [0.59614694]\n",
      " [0.84679342]\n",
      " [0.6109936 ]\n",
      " [0.6109936 ]\n",
      " [0.84679342]\n",
      " [0.84679342]\n",
      " [0.59614697]\n",
      " [0.84679342]]\n"
     ]
    }
   ],
   "source": [
    "pred = model.forward(x_train)\n",
    "print(pred)"
   ]
  },
  {
   "cell_type": "code",
   "execution_count": 21,
   "metadata": {
    "scrolled": true
   },
   "outputs": [
    {
     "name": "stdout",
     "output_type": "stream",
     "text": [
      "              precision    recall  f1-score   support\n",
      "\n",
      "           0       0.00      0.00      0.00        18\n",
      "           1       0.50      1.00      0.67        18\n",
      "\n",
      "    accuracy                           0.50        36\n",
      "   macro avg       0.25      0.50      0.33        36\n",
      "weighted avg       0.25      0.50      0.33        36\n",
      "\n"
     ]
    },
    {
     "name": "stderr",
     "output_type": "stream",
     "text": [
      "c:\\Users\\alexa\\AppData\\Local\\Programs\\Python\\Python39\\lib\\site-packages\\sklearn\\metrics\\_classification.py:1318: UndefinedMetricWarning: Precision and F-score are ill-defined and being set to 0.0 in labels with no predicted samples. Use `zero_division` parameter to control this behavior.\n",
      "  _warn_prf(average, modifier, msg_start, len(result))\n",
      "c:\\Users\\alexa\\AppData\\Local\\Programs\\Python\\Python39\\lib\\site-packages\\sklearn\\metrics\\_classification.py:1318: UndefinedMetricWarning: Precision and F-score are ill-defined and being set to 0.0 in labels with no predicted samples. Use `zero_division` parameter to control this behavior.\n",
      "  _warn_prf(average, modifier, msg_start, len(result))\n",
      "c:\\Users\\alexa\\AppData\\Local\\Programs\\Python\\Python39\\lib\\site-packages\\sklearn\\metrics\\_classification.py:1318: UndefinedMetricWarning: Precision and F-score are ill-defined and being set to 0.0 in labels with no predicted samples. Use `zero_division` parameter to control this behavior.\n",
      "  _warn_prf(average, modifier, msg_start, len(result))\n"
     ]
    }
   ],
   "source": [
    "print(classification_report(y_train, np.round(pred)))"
   ]
  },
  {
   "cell_type": "code",
   "execution_count": 22,
   "metadata": {},
   "outputs": [
    {
     "name": "stdout",
     "output_type": "stream",
     "text": [
      "Predicted Array\n",
      "['dogs' 'dogs' 'dogs' 'dogs' 'dogs' 'dogs' 'dogs' 'dogs' 'dogs' 'dogs'\n",
      " 'dogs' 'dogs' 'dogs' 'dogs' 'dogs' 'dogs' 'dogs' 'dogs' 'dogs' 'dogs'\n",
      " 'dogs' 'dogs' 'dogs' 'dogs' 'dogs' 'dogs' 'dogs' 'dogs' 'dogs' 'dogs'\n",
      " 'dogs' 'dogs' 'dogs' 'dogs' 'dogs' 'dogs']\n",
      "Actual Array\n",
      "['dogs' 'dogs' 'cats' 'dogs' 'dogs' 'dogs' 'dogs' 'cats' 'cats' 'dogs'\n",
      " 'cats' 'cats' 'cats' 'cats' 'cats' 'dogs' 'dogs' 'cats' 'dogs' 'dogs'\n",
      " 'cats' 'cats' 'cats' 'dogs' 'dogs' 'cats' 'cats' 'cats' 'cats' 'cats'\n",
      " 'dogs' 'dogs' 'dogs' 'dogs' 'cats' 'dogs']\n"
     ]
    }
   ],
   "source": [
    "# Make labels from possibility values\n",
    "def makeLabels(pred):\n",
    "    result = []\n",
    "    for each_pred in pred:\n",
    "        if each_pred >= 0.5:\n",
    "            result.append(\"dogs\")\n",
    "        else:\n",
    "            result.append(\"cats\")\n",
    "    return np.array(result)\n",
    "\n",
    "print(\"Predicted Array\")\n",
    "print(makeLabels(pred))\n",
    "print(\"Actual Array\")\n",
    "print(makeLabels(y_train))"
   ]
  }
 ],
 "metadata": {
  "kernelspec": {
   "display_name": "Python 3.9.7 64-bit",
   "language": "python",
   "name": "python3"
  },
  "language_info": {
   "codemirror_mode": {
    "name": "ipython",
    "version": 3
   },
   "file_extension": ".py",
   "mimetype": "text/x-python",
   "name": "python",
   "nbconvert_exporter": "python",
   "pygments_lexer": "ipython3",
   "version": "3.9.7"
  },
  "vscode": {
   "interpreter": {
    "hash": "f3d42ad487b2b2994e012ab0306cc0a65d83ea9d079e1ade1e8453053e613de7"
   }
  }
 },
 "nbformat": 4,
 "nbformat_minor": 4
}
