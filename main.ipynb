{
 "cells": [
  {
   "cell_type": "code",
   "execution_count": 61,
   "metadata": {},
   "outputs": [],
   "source": [
    "import os\n",
    "import cv2\n",
    "import numpy as np\n",
    "from sklearn.model_selection import train_test_split\n",
    "from sklearn.metrics import classification_report\n",
    "\n",
    "from sequential import Sequential\n",
    "from conv2d import Conv2D\n",
    "from pooling2d import Pooling2D\n",
    "from flatten import Flatten\n",
    "from dense import Dense"
   ]
  },
  {
   "cell_type": "code",
   "execution_count": 62,
   "metadata": {},
   "outputs": [],
   "source": [
    "np.random.seed(13517013)"
   ]
  },
  {
   "cell_type": "code",
   "execution_count": 63,
   "metadata": {},
   "outputs": [],
   "source": [
    "image_size = (100, 100)"
   ]
  },
  {
   "cell_type": "code",
   "execution_count": 64,
   "metadata": {},
   "outputs": [],
   "source": [
    "def readImage(path):\n",
    "    result = []\n",
    "    images = os.listdir(path)\n",
    "    print(images)\n",
    "    for image in images:\n",
    "        result.append(cv2.resize(cv2.imread(path + '/' + image, 1), image_size))\n",
    "    return np.array(result)"
   ]
  },
  {
   "cell_type": "code",
   "execution_count": 65,
   "metadata": {},
   "outputs": [
    {
     "name": "stdout",
     "output_type": "stream",
     "text": [
      "['cat.0.jpg', 'cat.15.jpg', 'cat.17.jpg', 'cat.19.jpg', 'cat.2.jpg', 'cat.21.jpg', 'cat.23.jpg', 'cat.26.jpg', 'cat.36.jpg', 'cat.38.jpg', 'cat.40.jpg', 'cat.45.jpg', 'cat.48.jpg', 'cat.49.jpg', 'cat.50.jpg', 'cat.58.jpg', 'cat.60.jpg', 'cat.61.jpg', 'cat.71.jpg', 'cat.9.jpg']\n"
     ]
    }
   ],
   "source": [
    "cats = readImage(\"./cats\")"
   ]
  },
  {
   "cell_type": "code",
   "execution_count": 66,
   "metadata": {},
   "outputs": [
    {
     "name": "stdout",
     "output_type": "stream",
     "text": [
      "['dog.0.jpg', 'dog.24.jpg', 'dog.25.jpg', 'dog.3.jpg', 'dog.30.jpg', 'dog.34.jpg', 'dog.36.jpg', 'dog.38.jpg', 'dog.4.jpg', 'dog.40.jpg', 'dog.42.jpg', 'dog.5.jpg', 'dog.50.jpg', 'dog.51.jpg', 'dog.58.jpg', 'dog.60.jpg', 'dog.61.jpg', 'dog.63.jpg', 'dog.8.jpg', 'dog.9.jpg']\n"
     ]
    }
   ],
   "source": [
    "dogs = readImage(\"./dogs\")"
   ]
  },
  {
   "cell_type": "code",
   "execution_count": 67,
   "metadata": {},
   "outputs": [
    {
     "name": "stdout",
     "output_type": "stream",
     "text": [
      "(40, 100, 100, 3)\n"
     ]
    }
   ],
   "source": [
    "xdata = np.concatenate((cats, dogs))\n",
    "yData = np.array([0] * len(cats) + [1] * len(dogs))\n",
    "\n",
    "x_train, x_test, y_train, y_test = train_test_split(\n",
    "        xdata, yData, test_size=0.1, random_state=13517013)\n",
    "\n",
    "print(xdata.shape)"
   ]
  },
  {
   "cell_type": "code",
   "execution_count": 68,
   "metadata": {
    "scrolled": false
   },
   "outputs": [],
   "source": [
    "model = Sequential()\n",
    "\n",
    "model.add(Conv2D(1, (2, 2), pad=1, stride=2, input_shape=(xdata.shape[1], xdata.shape[2], xdata.shape[3]), activation='relu'))\n",
    "model.add(Pooling2D((2, 2), stride=1))\n",
    "model.add(Conv2D(1, (2, 2), pad=1, stride=2, input_shape=(99, 99, xdata.shape[3]), activation='relu'))\n",
    "model.add(Flatten())\n",
    "model.add(Dense(8, activation='relu'))\n",
    "model.add(Dense(4, activation='sigmoid'))\n",
    "model.add(Dense(1, activation='sigmoid'))"
   ]
  },
  {
   "cell_type": "code",
   "execution_count": 69,
   "metadata": {
    "scrolled": false
   },
   "outputs": [
    {
     "name": "stdout",
     "output_type": "stream",
     "text": [
      "[[0.27695213]\n",
      " [0.62589949]\n",
      " [0.40623732]\n",
      " [0.40623731]\n",
      " [0.10931578]\n",
      " [0.27695213]\n",
      " [0.22385038]\n",
      " [0.41587835]\n",
      " [0.41587835]\n",
      " [0.22385034]\n",
      " [0.18706318]\n",
      " [0.20139186]\n",
      " [0.41587835]\n",
      " [0.13873733]\n",
      " [0.10931578]\n",
      " [0.200159  ]\n",
      " [0.62589949]\n",
      " [0.27695213]\n",
      " [0.16207052]\n",
      " [0.62589949]\n",
      " [0.35168324]\n",
      " [0.35168324]\n",
      " [0.62589949]\n",
      " [0.62589949]\n",
      " [0.27695213]\n",
      " [0.23084577]\n",
      " [0.41587835]\n",
      " [0.41587835]\n",
      " [0.40623732]\n",
      " [0.10931578]\n",
      " [0.41587835]\n",
      " [0.27695213]\n",
      " [0.41584302]\n",
      " [0.41587835]\n",
      " [0.27695213]\n",
      " [0.2094171 ]]\n"
     ]
    },
    {
     "name": "stderr",
     "output_type": "stream",
     "text": [
      "c:\\Users\\alexa\\OneDrive\\Documents\\KULIAH_SMT_7\\advanced machine learning\\activation.py:5: RuntimeWarning: overflow encountered in exp\n",
      "  return 1/(1+np.exp(-x))\n"
     ]
    }
   ],
   "source": [
    "pred = model.forward(x_train)\n",
    "print(pred)"
   ]
  },
  {
   "cell_type": "code",
   "execution_count": 70,
   "metadata": {
    "scrolled": true
   },
   "outputs": [
    {
     "name": "stdout",
     "output_type": "stream",
     "text": [
      "              precision    recall  f1-score   support\n",
      "\n",
      "           0       0.55      0.94      0.69        18\n",
      "           1       0.80      0.22      0.35        18\n",
      "\n",
      "    accuracy                           0.58        36\n",
      "   macro avg       0.67      0.58      0.52        36\n",
      "weighted avg       0.67      0.58      0.52        36\n",
      "\n"
     ]
    }
   ],
   "source": [
    "print(classification_report(y_train, np.round(pred)))"
   ]
  },
  {
   "cell_type": "code",
   "execution_count": 71,
   "metadata": {},
   "outputs": [
    {
     "name": "stdout",
     "output_type": "stream",
     "text": [
      "[0 1 0 0 0 0 0 0 0 0 0 0 0 0 0 0 1 0 0 1 0 0 1 1 0 0 0 0 0 0 0 0 0 0 0 0]\n",
      "[1 1 0 1 1 1 1 0 0 1 0 0 0 0 0 1 1 0 1 1 0 0 0 1 1 0 0 0 0 0 1 1 1 1 0 1]\n"
     ]
    }
   ],
   "source": [
    "# Make labels from possibility values\n",
    "def makeLabels(pred):\n",
    "    result = []\n",
    "    for each_pred in pred:\n",
    "        if each_pred >= 0.5:\n",
    "            result.append(\"dogs\")\n",
    "        else:\n",
    "            result.append(\"cats\")\n",
    "    return np.array(result)\n",
    "\n",
    "print(\"Predicted Array\")\n",
    "print(makeLabels(pred))\n",
    "print(\"Actual Array\")\n",
    "print(makeLabels(y_train))"
   ]
  }
 ],
 "metadata": {
  "kernelspec": {
   "display_name": "Python 3.9.7 64-bit",
   "language": "python",
   "name": "python3"
  },
  "language_info": {
   "codemirror_mode": {
    "name": "ipython",
    "version": 3
   },
   "file_extension": ".py",
   "mimetype": "text/x-python",
   "name": "python",
   "nbconvert_exporter": "python",
   "pygments_lexer": "ipython3",
   "version": "3.9.7"
  },
  "vscode": {
   "interpreter": {
    "hash": "f3d42ad487b2b2994e012ab0306cc0a65d83ea9d079e1ade1e8453053e613de7"
   }
  }
 },
 "nbformat": 4,
 "nbformat_minor": 4
}
